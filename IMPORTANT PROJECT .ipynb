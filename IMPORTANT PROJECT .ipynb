{
 "cells": [
  {
   "cell_type": "code",
   "execution_count": null,
   "id": "636639c3",
   "metadata": {
    "scrolled": false
   },
   "outputs": [],
   "source": [
    "print('Welcome to ChatiH')\n",
    "\n",
    "try:\n",
    "  x = input(\"type ur ROOM name: \")\n",
    "except ValueError:\n",
    "  print(\"Invalid input. Please enter a string.\")\n",
    "  exit(1)\n",
    "\n",
    "print(\"\\n\" * 4)\n",
    "print(x)\n",
    "print(\"ROOM NAME COMFRIMED\")\n",
    "print(\"\\n\" * 4)\n",
    "\n",
    "try:\n",
    "  x2 = input(\"You should have a name in room , type YOUR NAME :     \")\n",
    "except ValueError:\n",
    "  print(\"Invalid input. Please enter a string.\")\n",
    "  exit(1)\n",
    "\n",
    "print(\"\\n\" * 4)\n",
    "print(x2)\n",
    "print(\"YOUR NAME IS COMFRIMED BY 'user1' \")\n",
    "\n",
    "print(\"\\n\" * 4)\n",
    "print(\"        user 2 joined                   \")\n",
    "print('Welcome to ChatiH')\n",
    "\n",
    "try:\n",
    "  y = input(\"You should have a name in room , type YOUR NAME :     \")\n",
    "except ValueError:\n",
    "  print(\"Invalid input. Please enter a string.\")\n",
    "  exit(1)\n",
    "\n",
    "print(\"\\n\" * 4)\n",
    "print(y)\n",
    "print(\"YOUR NAME IS COMFRIMED BY 'user2' \")\n",
    "\n",
    "while (True): \n",
    "  try:\n",
    "      a = input(\"user1 type something...  \")\n",
    "      print(\"\\n\" * 4)\n",
    "      print (a)\n",
    "      print(\"\\n\" * 4)\n",
    "  except EOFError:\n",
    "      break\n",
    "\n",
    "  try:\n",
    "      b = input(\"user2 type something...  \")\n",
    "      print(\"\\n\" * 4)\n",
    "      print (b)\n",
    "      print(\"\\n\" * 4)\n",
    "  except EOFError:\n",
    "      break"
   ]
  },
  {
   "cell_type": "code",
   "execution_count": null,
   "id": "619d4fe7",
   "metadata": {},
   "outputs": [],
   "source": [
    "print('Welcome to ChatiH')\n",
    "\n",
    "try:\n",
    " x = input(\"type ur ROOM name: \")\n",
    "except ValueError:\n",
    " print(\"Invalid input. Please enter a string.\")\n",
    " exit(1)\n",
    "\n",
    "print(\"\\n\" * 2)\n",
    "print(x)\n",
    "print(\"ROOM NAME COMFRIMED\")\n",
    "print(\"\\n\" * 2)\n",
    "\n",
    "try:\n",
    " x2 = input(\"You should have a name in room , type YOUR NAME :    \")\n",
    "except ValueError:\n",
    " print(\"Invalid input. Please enter a string.\")\n",
    " exit(1)\n",
    "\n",
    "print(\"\\n\" * 2)\n",
    "print(x2)\n",
    "print(\"YOUR NAME IS COMFRIMED BY 'user1' \")\n",
    "\n",
    "print(\"\\n\" * 2)\n",
    "print(\"       user 2 joined                 \")\n",
    "print('Welcome to ChatiH')\n",
    "\n",
    "try:\n",
    " y = input(\"You should have a name in room , type YOUR NAME :    \")\n",
    "except ValueError:\n",
    " print(\"Invalid input. Please enter a string.\")\n",
    " exit(1)\n",
    "\n",
    "print(\"\\n\" * 2)\n",
    "print(y)\n",
    "print(\"YOUR NAME IS COMFRIMED BY 'user2' \")\n",
    "\n",
    "while (True): \n",
    " try:\n",
    "     a = input(\"user1 type something... \")\n",
    "     print(\"\\n\" * 2)\n",
    "     print (a)\n",
    "     print(\"\\n\" * 2)\n",
    " except EOFError:\n",
    "     break\n",
    "\n",
    " try:\n",
    "     b = input(\"user2 type something... \")\n",
    "     print(\"\\n\" * 2)\n",
    "     print (b)\n",
    "     print(\"\\n\" * 2)\n",
    " except EOFError:\n",
    "     break\n"
   ]
  },
  {
   "cell_type": "code",
   "execution_count": null,
   "id": "a66a19e5",
   "metadata": {},
   "outputs": [],
   "source": [
    "import socket\n",
    "\n",
    "# Create a socket object\n",
    "s = socket.socket()\n",
    "\n",
    "# Define the port on which you want to connect\n",
    "port = 12345\n",
    "\n",
    "# Bind to the port\n",
    "s.bind(('', port))\n",
    "\n",
    "# Put the socket into listening mode\n",
    "s.listen(5)\n",
    "print(\"Socket is listening\")\n",
    "\n",
    "# A forever loop until we interrupt it or\n",
    "# an error occurs\n",
    "while True:\n",
    "   # Establish a connection with the client\n",
    "   c, addr = s.accept()\n",
    "   print('Got connection from', addr)\n",
    "\n",
    "   # Send a thank you message to the client\n",
    "   c.send(b'Thank you for connecting')\n",
    "\n",
    "   # Close the connection with the client\n",
    "   c.close()"
   ]
  },
  {
   "cell_type": "code",
   "execution_count": null,
   "id": "e570c2ac",
   "metadata": {
    "scrolled": true
   },
   "outputs": [],
   "source": [
    "import socket\n",
    "import threading\n",
    "\n",
    "def handle_client(client_socket):\n",
    "   request = client_socket.recv(1024)\n",
    "   print(f\"[NEW MESSAGE] {request.decode('utf-8')}\")\n",
    "   client_socket.send(\"Message received\".encode('utf-8'))\n",
    "   client_socket.close()\n",
    "\n",
    "def start_server():\n",
    "   server = socket.socket(socket.AF_INET, socket.SOCK_STREAM)\n",
    "   server.bind(('localhost', 12345))\n",
    "   server.listen()\n",
    "   print(\"[STARTING] Server is starting\")\n",
    "   while True:\n",
    "       client, address = server.accept()\n",
    "       print(f\"[NEW CONNECTION] {address} connected.\")\n",
    "       client_handler = threading.Thread(target=handle_client, args=(client,))\n",
    "       client_handler.start()\n",
    "\n",
    "print(\"[STARTING] server is starting\")\n",
    "start_server()"
   ]
  },
  {
   "cell_type": "code",
   "execution_count": null,
   "id": "a9cf0bee",
   "metadata": {},
   "outputs": [],
   "source": [
    "import threading\n",
    "\n",
    "def receive():\n",
    "   while True:\n",
    "       message = input()\n",
    "       print(f\"User1: {message}\")\n",
    "\n",
    "def send():\n",
    "   while True:\n",
    "       message = input()\n",
    "       print(f\"User2: {message}\")\n",
    "\n",
    "# Create two threads, one for receiving and one for sending\n",
    "receive_thread = threading.Thread(target=receive)\n",
    "send_thread = threading.Thread(target=send)\n",
    "\n",
    "# Start the threads\n",
    "receive_thread.start()\n",
    "send_thread.start()\n",
    "\n",
    "\n",
    "import threading\n",
    "\n",
    "def receive():\n",
    "   while True:\n",
    "       message = input()\n",
    "       print(f\"User2: {message}\")\n",
    "\n",
    "def send():\n",
    "   while True:\n",
    "       message = input()\n",
    "       print(f\"User1: {message}\")\n",
    "\n",
    "# Create two threads, one for receiving and one for sending\n",
    "receive_thread = threading.Thread(target=receive)\n",
    "send_thread = threading.Thread(target=send)\n",
    "\n",
    "# Start the threads\n",
    "receive_thread.start()\n",
    "send_thread.start()\n"
   ]
  },
  {
   "cell_type": "code",
   "execution_count": null,
   "id": "2173a438",
   "metadata": {},
   "outputs": [],
   "source": []
  },
  {
   "cell_type": "code",
   "execution_count": null,
   "id": "0171a816",
   "metadata": {},
   "outputs": [],
   "source": []
  },
  {
   "cell_type": "code",
   "execution_count": null,
   "id": "16b02391",
   "metadata": {},
   "outputs": [],
   "source": []
  }
 ],
 "metadata": {
  "kernelspec": {
   "display_name": "Python 3 (ipykernel)",
   "language": "python",
   "name": "python3"
  },
  "language_info": {
   "codemirror_mode": {
    "name": "ipython",
    "version": 3
   },
   "file_extension": ".py",
   "mimetype": "text/x-python",
   "name": "python",
   "nbconvert_exporter": "python",
   "pygments_lexer": "ipython3",
   "version": "3.9.12"
  }
 },
 "nbformat": 4,
 "nbformat_minor": 5
}


import tkinter as tk

class ChatApp:
  def __init__(self):
      self.window = tk.Tk()
      self.window.title("ChatiH")
      self.window.config(bg='dark grey')
      
      self.chat_frame = tk.Frame(self.window, bg='grey')
      self.chat_frame.pack()

      self.textbox = tk.Text(self.chat_frame, bg='grey', fg='black')
      self.textbox.pack()

      self.input_field = tk.Entry(self.window, bg='dark grey')
      self.input_field.pack()

      self.send_button = tk.Button(self.window, text="Send", command=self.send_message, bg='green')
      self.send_button.pack()

  def send_message(self):
      message = self.input_field.get()
      self.textbox.insert(tk.END, f"You: {message}\n")
      self.input_field.delete(0, tk.END)

  def run(self):
      self.window.mainloop()

if __name__ == "__main__":
  app = ChatApp()
  app.run()

